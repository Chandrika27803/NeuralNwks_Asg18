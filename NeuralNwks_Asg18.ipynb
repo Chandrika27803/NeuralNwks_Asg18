{
  "nbformat": 4,
  "nbformat_minor": 0,
  "metadata": {
    "colab": {
      "provenance": []
    },
    "kernelspec": {
      "name": "python3",
      "display_name": "Python 3"
    },
    "language_info": {
      "name": "python"
    }
  },
  "cells": [
    {
      "cell_type": "code",
      "execution_count": 41,
      "metadata": {
        "id": "MR1iz_2FrSLi"
      },
      "outputs": [],
      "source": [
        "import numpy as np\n",
        "import pandas as pd\n",
        "from sklearn.model_selection import train_test_split, ParameterSampler\n",
        "from sklearn.preprocessing import LabelEncoder, MinMaxScaler\n",
        "from tensorflow.keras.models import Sequential\n",
        "from tensorflow.keras.layers import Dense\n",
        "from tensorflow.keras.optimizers import Adam\n",
        "from tensorflow.keras.utils import to_categorical\n",
        "import warnings\n",
        "warnings.filterwarnings(\"ignore\")"
      ]
    },
    {
      "cell_type": "code",
      "source": [
        "# Load the dataset\n",
        "data = pd.read_csv('Alphabets_data.csv')"
      ],
      "metadata": {
        "id": "7Ylp-P60rj2u"
      },
      "execution_count": 42,
      "outputs": []
    },
    {
      "cell_type": "markdown",
      "source": [
        "Data Exploration"
      ],
      "metadata": {
        "id": "hxplum5lrtF6"
      }
    },
    {
      "cell_type": "code",
      "source": [
        "#displaying first few rows of dataset\n",
        "data_head = data.head()\n",
        "data_head"
      ],
      "metadata": {
        "colab": {
          "base_uri": "https://localhost:8080/",
          "height": 206
        },
        "id": "0icibr8wsHTc",
        "outputId": "93706b9c-228d-40e9-98f6-0e0e39735e21"
      },
      "execution_count": 43,
      "outputs": [
        {
          "output_type": "execute_result",
          "data": {
            "text/plain": [
              "  letter  xbox  ybox  width  height  onpix  xbar  ybar  x2bar  y2bar  xybar  \\\n",
              "0      T     2     8      3       5      1     8    13      0      6      6   \n",
              "1      I     5    12      3       7      2    10     5      5      4     13   \n",
              "2      D     4    11      6       8      6    10     6      2      6     10   \n",
              "3      N     7    11      6       6      3     5     9      4      6      4   \n",
              "4      G     2     1      3       1      1     8     6      6      6      6   \n",
              "\n",
              "   x2ybar  xy2bar  xedge  xedgey  yedge  yedgex  \n",
              "0      10       8      0       8      0       8  \n",
              "1       3       9      2       8      4      10  \n",
              "2       3       7      3       7      3       9  \n",
              "3       4      10      6      10      2       8  \n",
              "4       5       9      1       7      5      10  "
            ],
            "text/html": [
              "\n",
              "  <div id=\"df-3f4e7c31-6188-4a8a-8f39-432e646bb2cf\" class=\"colab-df-container\">\n",
              "    <div>\n",
              "<style scoped>\n",
              "    .dataframe tbody tr th:only-of-type {\n",
              "        vertical-align: middle;\n",
              "    }\n",
              "\n",
              "    .dataframe tbody tr th {\n",
              "        vertical-align: top;\n",
              "    }\n",
              "\n",
              "    .dataframe thead th {\n",
              "        text-align: right;\n",
              "    }\n",
              "</style>\n",
              "<table border=\"1\" class=\"dataframe\">\n",
              "  <thead>\n",
              "    <tr style=\"text-align: right;\">\n",
              "      <th></th>\n",
              "      <th>letter</th>\n",
              "      <th>xbox</th>\n",
              "      <th>ybox</th>\n",
              "      <th>width</th>\n",
              "      <th>height</th>\n",
              "      <th>onpix</th>\n",
              "      <th>xbar</th>\n",
              "      <th>ybar</th>\n",
              "      <th>x2bar</th>\n",
              "      <th>y2bar</th>\n",
              "      <th>xybar</th>\n",
              "      <th>x2ybar</th>\n",
              "      <th>xy2bar</th>\n",
              "      <th>xedge</th>\n",
              "      <th>xedgey</th>\n",
              "      <th>yedge</th>\n",
              "      <th>yedgex</th>\n",
              "    </tr>\n",
              "  </thead>\n",
              "  <tbody>\n",
              "    <tr>\n",
              "      <th>0</th>\n",
              "      <td>T</td>\n",
              "      <td>2</td>\n",
              "      <td>8</td>\n",
              "      <td>3</td>\n",
              "      <td>5</td>\n",
              "      <td>1</td>\n",
              "      <td>8</td>\n",
              "      <td>13</td>\n",
              "      <td>0</td>\n",
              "      <td>6</td>\n",
              "      <td>6</td>\n",
              "      <td>10</td>\n",
              "      <td>8</td>\n",
              "      <td>0</td>\n",
              "      <td>8</td>\n",
              "      <td>0</td>\n",
              "      <td>8</td>\n",
              "    </tr>\n",
              "    <tr>\n",
              "      <th>1</th>\n",
              "      <td>I</td>\n",
              "      <td>5</td>\n",
              "      <td>12</td>\n",
              "      <td>3</td>\n",
              "      <td>7</td>\n",
              "      <td>2</td>\n",
              "      <td>10</td>\n",
              "      <td>5</td>\n",
              "      <td>5</td>\n",
              "      <td>4</td>\n",
              "      <td>13</td>\n",
              "      <td>3</td>\n",
              "      <td>9</td>\n",
              "      <td>2</td>\n",
              "      <td>8</td>\n",
              "      <td>4</td>\n",
              "      <td>10</td>\n",
              "    </tr>\n",
              "    <tr>\n",
              "      <th>2</th>\n",
              "      <td>D</td>\n",
              "      <td>4</td>\n",
              "      <td>11</td>\n",
              "      <td>6</td>\n",
              "      <td>8</td>\n",
              "      <td>6</td>\n",
              "      <td>10</td>\n",
              "      <td>6</td>\n",
              "      <td>2</td>\n",
              "      <td>6</td>\n",
              "      <td>10</td>\n",
              "      <td>3</td>\n",
              "      <td>7</td>\n",
              "      <td>3</td>\n",
              "      <td>7</td>\n",
              "      <td>3</td>\n",
              "      <td>9</td>\n",
              "    </tr>\n",
              "    <tr>\n",
              "      <th>3</th>\n",
              "      <td>N</td>\n",
              "      <td>7</td>\n",
              "      <td>11</td>\n",
              "      <td>6</td>\n",
              "      <td>6</td>\n",
              "      <td>3</td>\n",
              "      <td>5</td>\n",
              "      <td>9</td>\n",
              "      <td>4</td>\n",
              "      <td>6</td>\n",
              "      <td>4</td>\n",
              "      <td>4</td>\n",
              "      <td>10</td>\n",
              "      <td>6</td>\n",
              "      <td>10</td>\n",
              "      <td>2</td>\n",
              "      <td>8</td>\n",
              "    </tr>\n",
              "    <tr>\n",
              "      <th>4</th>\n",
              "      <td>G</td>\n",
              "      <td>2</td>\n",
              "      <td>1</td>\n",
              "      <td>3</td>\n",
              "      <td>1</td>\n",
              "      <td>1</td>\n",
              "      <td>8</td>\n",
              "      <td>6</td>\n",
              "      <td>6</td>\n",
              "      <td>6</td>\n",
              "      <td>6</td>\n",
              "      <td>5</td>\n",
              "      <td>9</td>\n",
              "      <td>1</td>\n",
              "      <td>7</td>\n",
              "      <td>5</td>\n",
              "      <td>10</td>\n",
              "    </tr>\n",
              "  </tbody>\n",
              "</table>\n",
              "</div>\n",
              "    <div class=\"colab-df-buttons\">\n",
              "\n",
              "  <div class=\"colab-df-container\">\n",
              "    <button class=\"colab-df-convert\" onclick=\"convertToInteractive('df-3f4e7c31-6188-4a8a-8f39-432e646bb2cf')\"\n",
              "            title=\"Convert this dataframe to an interactive table.\"\n",
              "            style=\"display:none;\">\n",
              "\n",
              "  <svg xmlns=\"http://www.w3.org/2000/svg\" height=\"24px\" viewBox=\"0 -960 960 960\">\n",
              "    <path d=\"M120-120v-720h720v720H120Zm60-500h600v-160H180v160Zm220 220h160v-160H400v160Zm0 220h160v-160H400v160ZM180-400h160v-160H180v160Zm440 0h160v-160H620v160ZM180-180h160v-160H180v160Zm440 0h160v-160H620v160Z\"/>\n",
              "  </svg>\n",
              "    </button>\n",
              "\n",
              "  <style>\n",
              "    .colab-df-container {\n",
              "      display:flex;\n",
              "      gap: 12px;\n",
              "    }\n",
              "\n",
              "    .colab-df-convert {\n",
              "      background-color: #E8F0FE;\n",
              "      border: none;\n",
              "      border-radius: 50%;\n",
              "      cursor: pointer;\n",
              "      display: none;\n",
              "      fill: #1967D2;\n",
              "      height: 32px;\n",
              "      padding: 0 0 0 0;\n",
              "      width: 32px;\n",
              "    }\n",
              "\n",
              "    .colab-df-convert:hover {\n",
              "      background-color: #E2EBFA;\n",
              "      box-shadow: 0px 1px 2px rgba(60, 64, 67, 0.3), 0px 1px 3px 1px rgba(60, 64, 67, 0.15);\n",
              "      fill: #174EA6;\n",
              "    }\n",
              "\n",
              "    .colab-df-buttons div {\n",
              "      margin-bottom: 4px;\n",
              "    }\n",
              "\n",
              "    [theme=dark] .colab-df-convert {\n",
              "      background-color: #3B4455;\n",
              "      fill: #D2E3FC;\n",
              "    }\n",
              "\n",
              "    [theme=dark] .colab-df-convert:hover {\n",
              "      background-color: #434B5C;\n",
              "      box-shadow: 0px 1px 3px 1px rgba(0, 0, 0, 0.15);\n",
              "      filter: drop-shadow(0px 1px 2px rgba(0, 0, 0, 0.3));\n",
              "      fill: #FFFFFF;\n",
              "    }\n",
              "  </style>\n",
              "\n",
              "    <script>\n",
              "      const buttonEl =\n",
              "        document.querySelector('#df-3f4e7c31-6188-4a8a-8f39-432e646bb2cf button.colab-df-convert');\n",
              "      buttonEl.style.display =\n",
              "        google.colab.kernel.accessAllowed ? 'block' : 'none';\n",
              "\n",
              "      async function convertToInteractive(key) {\n",
              "        const element = document.querySelector('#df-3f4e7c31-6188-4a8a-8f39-432e646bb2cf');\n",
              "        const dataTable =\n",
              "          await google.colab.kernel.invokeFunction('convertToInteractive',\n",
              "                                                    [key], {});\n",
              "        if (!dataTable) return;\n",
              "\n",
              "        const docLinkHtml = 'Like what you see? Visit the ' +\n",
              "          '<a target=\"_blank\" href=https://colab.research.google.com/notebooks/data_table.ipynb>data table notebook</a>'\n",
              "          + ' to learn more about interactive tables.';\n",
              "        element.innerHTML = '';\n",
              "        dataTable['output_type'] = 'display_data';\n",
              "        await google.colab.output.renderOutput(dataTable, element);\n",
              "        const docLink = document.createElement('div');\n",
              "        docLink.innerHTML = docLinkHtml;\n",
              "        element.appendChild(docLink);\n",
              "      }\n",
              "    </script>\n",
              "  </div>\n",
              "\n",
              "\n",
              "<div id=\"df-f929804a-8142-437f-bc8e-6ef49723ffb1\">\n",
              "  <button class=\"colab-df-quickchart\" onclick=\"quickchart('df-f929804a-8142-437f-bc8e-6ef49723ffb1')\"\n",
              "            title=\"Suggest charts\"\n",
              "            style=\"display:none;\">\n",
              "\n",
              "<svg xmlns=\"http://www.w3.org/2000/svg\" height=\"24px\"viewBox=\"0 0 24 24\"\n",
              "     width=\"24px\">\n",
              "    <g>\n",
              "        <path d=\"M19 3H5c-1.1 0-2 .9-2 2v14c0 1.1.9 2 2 2h14c1.1 0 2-.9 2-2V5c0-1.1-.9-2-2-2zM9 17H7v-7h2v7zm4 0h-2V7h2v10zm4 0h-2v-4h2v4z\"/>\n",
              "    </g>\n",
              "</svg>\n",
              "  </button>\n",
              "\n",
              "<style>\n",
              "  .colab-df-quickchart {\n",
              "      --bg-color: #E8F0FE;\n",
              "      --fill-color: #1967D2;\n",
              "      --hover-bg-color: #E2EBFA;\n",
              "      --hover-fill-color: #174EA6;\n",
              "      --disabled-fill-color: #AAA;\n",
              "      --disabled-bg-color: #DDD;\n",
              "  }\n",
              "\n",
              "  [theme=dark] .colab-df-quickchart {\n",
              "      --bg-color: #3B4455;\n",
              "      --fill-color: #D2E3FC;\n",
              "      --hover-bg-color: #434B5C;\n",
              "      --hover-fill-color: #FFFFFF;\n",
              "      --disabled-bg-color: #3B4455;\n",
              "      --disabled-fill-color: #666;\n",
              "  }\n",
              "\n",
              "  .colab-df-quickchart {\n",
              "    background-color: var(--bg-color);\n",
              "    border: none;\n",
              "    border-radius: 50%;\n",
              "    cursor: pointer;\n",
              "    display: none;\n",
              "    fill: var(--fill-color);\n",
              "    height: 32px;\n",
              "    padding: 0;\n",
              "    width: 32px;\n",
              "  }\n",
              "\n",
              "  .colab-df-quickchart:hover {\n",
              "    background-color: var(--hover-bg-color);\n",
              "    box-shadow: 0 1px 2px rgba(60, 64, 67, 0.3), 0 1px 3px 1px rgba(60, 64, 67, 0.15);\n",
              "    fill: var(--button-hover-fill-color);\n",
              "  }\n",
              "\n",
              "  .colab-df-quickchart-complete:disabled,\n",
              "  .colab-df-quickchart-complete:disabled:hover {\n",
              "    background-color: var(--disabled-bg-color);\n",
              "    fill: var(--disabled-fill-color);\n",
              "    box-shadow: none;\n",
              "  }\n",
              "\n",
              "  .colab-df-spinner {\n",
              "    border: 2px solid var(--fill-color);\n",
              "    border-color: transparent;\n",
              "    border-bottom-color: var(--fill-color);\n",
              "    animation:\n",
              "      spin 1s steps(1) infinite;\n",
              "  }\n",
              "\n",
              "  @keyframes spin {\n",
              "    0% {\n",
              "      border-color: transparent;\n",
              "      border-bottom-color: var(--fill-color);\n",
              "      border-left-color: var(--fill-color);\n",
              "    }\n",
              "    20% {\n",
              "      border-color: transparent;\n",
              "      border-left-color: var(--fill-color);\n",
              "      border-top-color: var(--fill-color);\n",
              "    }\n",
              "    30% {\n",
              "      border-color: transparent;\n",
              "      border-left-color: var(--fill-color);\n",
              "      border-top-color: var(--fill-color);\n",
              "      border-right-color: var(--fill-color);\n",
              "    }\n",
              "    40% {\n",
              "      border-color: transparent;\n",
              "      border-right-color: var(--fill-color);\n",
              "      border-top-color: var(--fill-color);\n",
              "    }\n",
              "    60% {\n",
              "      border-color: transparent;\n",
              "      border-right-color: var(--fill-color);\n",
              "    }\n",
              "    80% {\n",
              "      border-color: transparent;\n",
              "      border-right-color: var(--fill-color);\n",
              "      border-bottom-color: var(--fill-color);\n",
              "    }\n",
              "    90% {\n",
              "      border-color: transparent;\n",
              "      border-bottom-color: var(--fill-color);\n",
              "    }\n",
              "  }\n",
              "</style>\n",
              "\n",
              "  <script>\n",
              "    async function quickchart(key) {\n",
              "      const quickchartButtonEl =\n",
              "        document.querySelector('#' + key + ' button');\n",
              "      quickchartButtonEl.disabled = true;  // To prevent multiple clicks.\n",
              "      quickchartButtonEl.classList.add('colab-df-spinner');\n",
              "      try {\n",
              "        const charts = await google.colab.kernel.invokeFunction(\n",
              "            'suggestCharts', [key], {});\n",
              "      } catch (error) {\n",
              "        console.error('Error during call to suggestCharts:', error);\n",
              "      }\n",
              "      quickchartButtonEl.classList.remove('colab-df-spinner');\n",
              "      quickchartButtonEl.classList.add('colab-df-quickchart-complete');\n",
              "    }\n",
              "    (() => {\n",
              "      let quickchartButtonEl =\n",
              "        document.querySelector('#df-f929804a-8142-437f-bc8e-6ef49723ffb1 button');\n",
              "      quickchartButtonEl.style.display =\n",
              "        google.colab.kernel.accessAllowed ? 'block' : 'none';\n",
              "    })();\n",
              "  </script>\n",
              "</div>\n",
              "\n",
              "  <div id=\"id_142d65dd-51c9-487a-90fa-0d4ee73d6372\">\n",
              "    <style>\n",
              "      .colab-df-generate {\n",
              "        background-color: #E8F0FE;\n",
              "        border: none;\n",
              "        border-radius: 50%;\n",
              "        cursor: pointer;\n",
              "        display: none;\n",
              "        fill: #1967D2;\n",
              "        height: 32px;\n",
              "        padding: 0 0 0 0;\n",
              "        width: 32px;\n",
              "      }\n",
              "\n",
              "      .colab-df-generate:hover {\n",
              "        background-color: #E2EBFA;\n",
              "        box-shadow: 0px 1px 2px rgba(60, 64, 67, 0.3), 0px 1px 3px 1px rgba(60, 64, 67, 0.15);\n",
              "        fill: #174EA6;\n",
              "      }\n",
              "\n",
              "      [theme=dark] .colab-df-generate {\n",
              "        background-color: #3B4455;\n",
              "        fill: #D2E3FC;\n",
              "      }\n",
              "\n",
              "      [theme=dark] .colab-df-generate:hover {\n",
              "        background-color: #434B5C;\n",
              "        box-shadow: 0px 1px 3px 1px rgba(0, 0, 0, 0.15);\n",
              "        filter: drop-shadow(0px 1px 2px rgba(0, 0, 0, 0.3));\n",
              "        fill: #FFFFFF;\n",
              "      }\n",
              "    </style>\n",
              "    <button class=\"colab-df-generate\" onclick=\"generateWithVariable('data_head')\"\n",
              "            title=\"Generate code using this dataframe.\"\n",
              "            style=\"display:none;\">\n",
              "\n",
              "  <svg xmlns=\"http://www.w3.org/2000/svg\" height=\"24px\"viewBox=\"0 0 24 24\"\n",
              "       width=\"24px\">\n",
              "    <path d=\"M7,19H8.4L18.45,9,17,7.55,7,17.6ZM5,21V16.75L18.45,3.32a2,2,0,0,1,2.83,0l1.4,1.43a1.91,1.91,0,0,1,.58,1.4,1.91,1.91,0,0,1-.58,1.4L9.25,21ZM18.45,9,17,7.55Zm-12,3A5.31,5.31,0,0,0,4.9,8.1,5.31,5.31,0,0,0,1,6.5,5.31,5.31,0,0,0,4.9,4.9,5.31,5.31,0,0,0,6.5,1,5.31,5.31,0,0,0,8.1,4.9,5.31,5.31,0,0,0,12,6.5,5.46,5.46,0,0,0,6.5,12Z\"/>\n",
              "  </svg>\n",
              "    </button>\n",
              "    <script>\n",
              "      (() => {\n",
              "      const buttonEl =\n",
              "        document.querySelector('#id_142d65dd-51c9-487a-90fa-0d4ee73d6372 button.colab-df-generate');\n",
              "      buttonEl.style.display =\n",
              "        google.colab.kernel.accessAllowed ? 'block' : 'none';\n",
              "\n",
              "      buttonEl.onclick = () => {\n",
              "        google.colab.notebook.generateWithVariable('data_head');\n",
              "      }\n",
              "      })();\n",
              "    </script>\n",
              "  </div>\n",
              "\n",
              "    </div>\n",
              "  </div>\n"
            ],
            "application/vnd.google.colaboratory.intrinsic+json": {
              "type": "dataframe",
              "variable_name": "data_head",
              "summary": "{\n  \"name\": \"data_head\",\n  \"rows\": 5,\n  \"fields\": [\n    {\n      \"column\": \"letter\",\n      \"properties\": {\n        \"dtype\": \"string\",\n        \"num_unique_values\": 5,\n        \"samples\": [\n          \"I\",\n          \"G\",\n          \"D\"\n        ],\n        \"semantic_type\": \"\",\n        \"description\": \"\"\n      }\n    },\n    {\n      \"column\": \"xbox\",\n      \"properties\": {\n        \"dtype\": \"number\",\n        \"std\": 2,\n        \"min\": 2,\n        \"max\": 7,\n        \"num_unique_values\": 4,\n        \"samples\": [\n          5,\n          7,\n          2\n        ],\n        \"semantic_type\": \"\",\n        \"description\": \"\"\n      }\n    },\n    {\n      \"column\": \"ybox\",\n      \"properties\": {\n        \"dtype\": \"number\",\n        \"std\": 4,\n        \"min\": 1,\n        \"max\": 12,\n        \"num_unique_values\": 4,\n        \"samples\": [\n          12,\n          1,\n          8\n        ],\n        \"semantic_type\": \"\",\n        \"description\": \"\"\n      }\n    },\n    {\n      \"column\": \"width\",\n      \"properties\": {\n        \"dtype\": \"number\",\n        \"std\": 1,\n        \"min\": 3,\n        \"max\": 6,\n        \"num_unique_values\": 2,\n        \"samples\": [\n          6,\n          3\n        ],\n        \"semantic_type\": \"\",\n        \"description\": \"\"\n      }\n    },\n    {\n      \"column\": \"height\",\n      \"properties\": {\n        \"dtype\": \"number\",\n        \"std\": 2,\n        \"min\": 1,\n        \"max\": 8,\n        \"num_unique_values\": 5,\n        \"samples\": [\n          7,\n          1\n        ],\n        \"semantic_type\": \"\",\n        \"description\": \"\"\n      }\n    },\n    {\n      \"column\": \"onpix\",\n      \"properties\": {\n        \"dtype\": \"number\",\n        \"std\": 2,\n        \"min\": 1,\n        \"max\": 6,\n        \"num_unique_values\": 4,\n        \"samples\": [\n          2,\n          3\n        ],\n        \"semantic_type\": \"\",\n        \"description\": \"\"\n      }\n    },\n    {\n      \"column\": \"xbar\",\n      \"properties\": {\n        \"dtype\": \"number\",\n        \"std\": 2,\n        \"min\": 5,\n        \"max\": 10,\n        \"num_unique_values\": 3,\n        \"samples\": [\n          8,\n          10\n        ],\n        \"semantic_type\": \"\",\n        \"description\": \"\"\n      }\n    },\n    {\n      \"column\": \"ybar\",\n      \"properties\": {\n        \"dtype\": \"number\",\n        \"std\": 3,\n        \"min\": 5,\n        \"max\": 13,\n        \"num_unique_values\": 4,\n        \"samples\": [\n          5,\n          9\n        ],\n        \"semantic_type\": \"\",\n        \"description\": \"\"\n      }\n    },\n    {\n      \"column\": \"x2bar\",\n      \"properties\": {\n        \"dtype\": \"number\",\n        \"std\": 2,\n        \"min\": 0,\n        \"max\": 6,\n        \"num_unique_values\": 5,\n        \"samples\": [\n          5,\n          6\n        ],\n        \"semantic_type\": \"\",\n        \"description\": \"\"\n      }\n    },\n    {\n      \"column\": \"y2bar\",\n      \"properties\": {\n        \"dtype\": \"number\",\n        \"std\": 0,\n        \"min\": 4,\n        \"max\": 6,\n        \"num_unique_values\": 2,\n        \"samples\": [\n          4,\n          6\n        ],\n        \"semantic_type\": \"\",\n        \"description\": \"\"\n      }\n    },\n    {\n      \"column\": \"xybar\",\n      \"properties\": {\n        \"dtype\": \"number\",\n        \"std\": 3,\n        \"min\": 4,\n        \"max\": 13,\n        \"num_unique_values\": 4,\n        \"samples\": [\n          13,\n          4\n        ],\n        \"semantic_type\": \"\",\n        \"description\": \"\"\n      }\n    },\n    {\n      \"column\": \"x2ybar\",\n      \"properties\": {\n        \"dtype\": \"number\",\n        \"std\": 2,\n        \"min\": 3,\n        \"max\": 10,\n        \"num_unique_values\": 4,\n        \"samples\": [\n          3,\n          5\n        ],\n        \"semantic_type\": \"\",\n        \"description\": \"\"\n      }\n    },\n    {\n      \"column\": \"xy2bar\",\n      \"properties\": {\n        \"dtype\": \"number\",\n        \"std\": 1,\n        \"min\": 7,\n        \"max\": 10,\n        \"num_unique_values\": 4,\n        \"samples\": [\n          9,\n          10\n        ],\n        \"semantic_type\": \"\",\n        \"description\": \"\"\n      }\n    },\n    {\n      \"column\": \"xedge\",\n      \"properties\": {\n        \"dtype\": \"number\",\n        \"std\": 2,\n        \"min\": 0,\n        \"max\": 6,\n        \"num_unique_values\": 5,\n        \"samples\": [\n          2,\n          1\n        ],\n        \"semantic_type\": \"\",\n        \"description\": \"\"\n      }\n    },\n    {\n      \"column\": \"xedgey\",\n      \"properties\": {\n        \"dtype\": \"number\",\n        \"std\": 1,\n        \"min\": 7,\n        \"max\": 10,\n        \"num_unique_values\": 3,\n        \"samples\": [\n          8,\n          7\n        ],\n        \"semantic_type\": \"\",\n        \"description\": \"\"\n      }\n    },\n    {\n      \"column\": \"yedge\",\n      \"properties\": {\n        \"dtype\": \"number\",\n        \"std\": 1,\n        \"min\": 0,\n        \"max\": 5,\n        \"num_unique_values\": 5,\n        \"samples\": [\n          4,\n          5\n        ],\n        \"semantic_type\": \"\",\n        \"description\": \"\"\n      }\n    },\n    {\n      \"column\": \"yedgex\",\n      \"properties\": {\n        \"dtype\": \"number\",\n        \"std\": 1,\n        \"min\": 8,\n        \"max\": 10,\n        \"num_unique_values\": 3,\n        \"samples\": [\n          8,\n          10\n        ],\n        \"semantic_type\": \"\",\n        \"description\": \"\"\n      }\n    }\n  ]\n}"
            }
          },
          "metadata": {},
          "execution_count": 43
        }
      ]
    },
    {
      "cell_type": "code",
      "source": [
        "# Descriptive statistics\n",
        "data_description = data.describe()\n",
        "print(\"\\nData Description:\\n\", data_description)"
      ],
      "metadata": {
        "colab": {
          "base_uri": "https://localhost:8080/"
        },
        "id": "1_L4dKpnrqSH",
        "outputId": "bb5c4a73-12b2-4882-840a-c020ea977343"
      },
      "execution_count": 44,
      "outputs": [
        {
          "output_type": "stream",
          "name": "stdout",
          "text": [
            "\n",
            "Data Description:\n",
            "                xbox          ybox         width       height         onpix  \\\n",
            "count  20000.000000  20000.000000  20000.000000  20000.00000  20000.000000   \n",
            "mean       4.023550      7.035500      5.121850      5.37245      3.505850   \n",
            "std        1.913212      3.304555      2.014573      2.26139      2.190458   \n",
            "min        0.000000      0.000000      0.000000      0.00000      0.000000   \n",
            "25%        3.000000      5.000000      4.000000      4.00000      2.000000   \n",
            "50%        4.000000      7.000000      5.000000      6.00000      3.000000   \n",
            "75%        5.000000      9.000000      6.000000      7.00000      5.000000   \n",
            "max       15.000000     15.000000     15.000000     15.00000     15.000000   \n",
            "\n",
            "               xbar          ybar         x2bar         y2bar         xybar  \\\n",
            "count  20000.000000  20000.000000  20000.000000  20000.000000  20000.000000   \n",
            "mean       6.897600      7.500450      4.628600      5.178650      8.282050   \n",
            "std        2.026035      2.325354      2.699968      2.380823      2.488475   \n",
            "min        0.000000      0.000000      0.000000      0.000000      0.000000   \n",
            "25%        6.000000      6.000000      3.000000      4.000000      7.000000   \n",
            "50%        7.000000      7.000000      4.000000      5.000000      8.000000   \n",
            "75%        8.000000      9.000000      6.000000      7.000000     10.000000   \n",
            "max       15.000000     15.000000     15.000000     15.000000     15.000000   \n",
            "\n",
            "            x2ybar        xy2bar         xedge        xedgey         yedge  \\\n",
            "count  20000.00000  20000.000000  20000.000000  20000.000000  20000.000000   \n",
            "mean       6.45400      7.929000      3.046100      8.338850      3.691750   \n",
            "std        2.63107      2.080619      2.332541      1.546722      2.567073   \n",
            "min        0.00000      0.000000      0.000000      0.000000      0.000000   \n",
            "25%        5.00000      7.000000      1.000000      8.000000      2.000000   \n",
            "50%        6.00000      8.000000      3.000000      8.000000      3.000000   \n",
            "75%        8.00000      9.000000      4.000000      9.000000      5.000000   \n",
            "max       15.00000     15.000000     15.000000     15.000000     15.000000   \n",
            "\n",
            "            yedgex  \n",
            "count  20000.00000  \n",
            "mean       7.80120  \n",
            "std        1.61747  \n",
            "min        0.00000  \n",
            "25%        7.00000  \n",
            "50%        8.00000  \n",
            "75%        9.00000  \n",
            "max       15.00000  \n"
          ]
        }
      ]
    },
    {
      "cell_type": "code",
      "source": [
        "#checking for missing values\n",
        "missing_values = data.isnull().sum()\n",
        "print(\"\\nMissing Values:\\n\", missing_values)"
      ],
      "metadata": {
        "colab": {
          "base_uri": "https://localhost:8080/"
        },
        "id": "liwOQ0sPr1pJ",
        "outputId": "a4e1d5a6-59d5-4c43-83ab-d85a8e34fc35"
      },
      "execution_count": 45,
      "outputs": [
        {
          "output_type": "stream",
          "name": "stdout",
          "text": [
            "\n",
            "Missing Values:\n",
            " letter    0\n",
            "xbox      0\n",
            "ybox      0\n",
            "width     0\n",
            "height    0\n",
            "onpix     0\n",
            "xbar      0\n",
            "ybar      0\n",
            "x2bar     0\n",
            "y2bar     0\n",
            "xybar     0\n",
            "x2ybar    0\n",
            "xy2bar    0\n",
            "xedge     0\n",
            "xedgey    0\n",
            "yedge     0\n",
            "yedgex    0\n",
            "dtype: int64\n"
          ]
        }
      ]
    },
    {
      "cell_type": "markdown",
      "source": [
        "Data Preprocessing"
      ],
      "metadata": {
        "id": "4FmYoYxfsQwD"
      }
    },
    {
      "cell_type": "code",
      "source": [
        "# Separate features and target\n",
        "features = data.drop(columns=['letter'])\n",
        "target = data['letter']"
      ],
      "metadata": {
        "id": "71Hv_eg8sANf"
      },
      "execution_count": 46,
      "outputs": []
    },
    {
      "cell_type": "code",
      "source": [
        "# Normalize numerical features using Min-Max Scaling\n",
        "scaler = MinMaxScaler()\n",
        "normalized_features = pd.DataFrame(scaler.fit_transform(features), columns=features.columns)\n"
      ],
      "metadata": {
        "id": "pN_1IBt3sTwl"
      },
      "execution_count": 47,
      "outputs": []
    },
    {
      "cell_type": "markdown",
      "source": [
        "Model Implementation"
      ],
      "metadata": {
        "id": "7ZDfunI2sukz"
      }
    },
    {
      "cell_type": "code",
      "source": [
        "# Encode the target variable (letters)\n",
        "label_encoder = LabelEncoder()\n",
        "encoded_target = label_encoder.fit_transform(target)"
      ],
      "metadata": {
        "id": "EYS246AasaWs"
      },
      "execution_count": 48,
      "outputs": []
    },
    {
      "cell_type": "code",
      "source": [
        "# Convert the target variable to categorical format (one-hot encoding)\n",
        "categorical_target = to_categorical(encoded_target)"
      ],
      "metadata": {
        "id": "ing-dY0UsmJX"
      },
      "execution_count": 49,
      "outputs": []
    },
    {
      "cell_type": "code",
      "source": [
        "# Split the dataset into training and testing sets\n",
        "X_train, X_test, y_train, y_test = train_test_split(normalized_features, categorical_target, test_size=0.2, random_state=42)"
      ],
      "metadata": {
        "id": "RsZ6EzJRso0x"
      },
      "execution_count": 51,
      "outputs": []
    },
    {
      "cell_type": "code",
      "source": [
        "# Construct the ANN Model\n",
        "model = Sequential()\n",
        "model.add(Dense(64, input_dim=X_train.shape[1], activation='relu'))  # Input + Hidden Layer\n",
        "model.add(Dense(32, activation='relu'))  # Additional Hidden Layer\n",
        "model.add(Dense(y_train.shape[1], activation='softmax'))  # Output Layer"
      ],
      "metadata": {
        "id": "wjxtifussvVl"
      },
      "execution_count": 52,
      "outputs": []
    },
    {
      "cell_type": "code",
      "source": [
        "# Compile the model\n",
        "model.compile(optimizer='adam', loss='categorical_crossentropy', metrics=['accuracy'])"
      ],
      "metadata": {
        "id": "emAt2dbLszI5"
      },
      "execution_count": 53,
      "outputs": []
    },
    {
      "cell_type": "code",
      "source": [
        "#Train the Model\n",
        "history = model.fit(X_train, y_train, epochs=20, batch_size=32, validation_split=0.1, verbose=1)\n"
      ],
      "metadata": {
        "colab": {
          "base_uri": "https://localhost:8080/"
        },
        "id": "e8Afymm2s1cH",
        "outputId": "694b1b40-f2b4-4742-e787-e096c0b143f5"
      },
      "execution_count": 54,
      "outputs": [
        {
          "output_type": "stream",
          "name": "stdout",
          "text": [
            "Epoch 1/20\n",
            "\u001b[1m450/450\u001b[0m \u001b[32m━━━━━━━━━━━━━━━━━━━━\u001b[0m\u001b[37m\u001b[0m \u001b[1m2s\u001b[0m 2ms/step - accuracy: 0.1558 - loss: 3.0451 - val_accuracy: 0.4744 - val_loss: 2.0382\n",
            "Epoch 2/20\n",
            "\u001b[1m450/450\u001b[0m \u001b[32m━━━━━━━━━━━━━━━━━━━━\u001b[0m\u001b[37m\u001b[0m \u001b[1m1s\u001b[0m 2ms/step - accuracy: 0.5078 - loss: 1.8618 - val_accuracy: 0.5794 - val_loss: 1.5418\n",
            "Epoch 3/20\n",
            "\u001b[1m450/450\u001b[0m \u001b[32m━━━━━━━━━━━━━━━━━━━━\u001b[0m\u001b[37m\u001b[0m \u001b[1m1s\u001b[0m 2ms/step - accuracy: 0.6034 - loss: 1.5070 - val_accuracy: 0.6306 - val_loss: 1.3723\n",
            "Epoch 4/20\n",
            "\u001b[1m450/450\u001b[0m \u001b[32m━━━━━━━━━━━━━━━━━━━━\u001b[0m\u001b[37m\u001b[0m \u001b[1m1s\u001b[0m 2ms/step - accuracy: 0.6316 - loss: 1.3298 - val_accuracy: 0.6531 - val_loss: 1.2661\n",
            "Epoch 5/20\n",
            "\u001b[1m450/450\u001b[0m \u001b[32m━━━━━━━━━━━━━━━━━━━━\u001b[0m\u001b[37m\u001b[0m \u001b[1m1s\u001b[0m 2ms/step - accuracy: 0.6620 - loss: 1.2304 - val_accuracy: 0.6706 - val_loss: 1.2023\n",
            "Epoch 6/20\n",
            "\u001b[1m450/450\u001b[0m \u001b[32m━━━━━━━━━━━━━━━━━━━━\u001b[0m\u001b[37m\u001b[0m \u001b[1m2s\u001b[0m 2ms/step - accuracy: 0.6866 - loss: 1.1615 - val_accuracy: 0.6938 - val_loss: 1.1324\n",
            "Epoch 7/20\n",
            "\u001b[1m450/450\u001b[0m \u001b[32m━━━━━━━━━━━━━━━━━━━━\u001b[0m\u001b[37m\u001b[0m \u001b[1m1s\u001b[0m 3ms/step - accuracy: 0.7027 - loss: 1.0955 - val_accuracy: 0.7006 - val_loss: 1.0812\n",
            "Epoch 8/20\n",
            "\u001b[1m450/450\u001b[0m \u001b[32m━━━━━━━━━━━━━━━━━━━━\u001b[0m\u001b[37m\u001b[0m \u001b[1m2s\u001b[0m 2ms/step - accuracy: 0.7078 - loss: 1.0469 - val_accuracy: 0.7019 - val_loss: 1.0889\n",
            "Epoch 9/20\n",
            "\u001b[1m450/450\u001b[0m \u001b[32m━━━━━━━━━━━━━━━━━━━━\u001b[0m\u001b[37m\u001b[0m \u001b[1m1s\u001b[0m 2ms/step - accuracy: 0.7250 - loss: 1.0108 - val_accuracy: 0.7169 - val_loss: 1.0386\n",
            "Epoch 10/20\n",
            "\u001b[1m450/450\u001b[0m \u001b[32m━━━━━━━━━━━━━━━━━━━━\u001b[0m\u001b[37m\u001b[0m \u001b[1m1s\u001b[0m 2ms/step - accuracy: 0.7372 - loss: 0.9761 - val_accuracy: 0.7337 - val_loss: 0.9859\n",
            "Epoch 11/20\n",
            "\u001b[1m450/450\u001b[0m \u001b[32m━━━━━━━━━━━━━━━━━━━━\u001b[0m\u001b[37m\u001b[0m \u001b[1m1s\u001b[0m 2ms/step - accuracy: 0.7436 - loss: 0.9494 - val_accuracy: 0.7387 - val_loss: 0.9787\n",
            "Epoch 12/20\n",
            "\u001b[1m450/450\u001b[0m \u001b[32m━━━━━━━━━━━━━━━━━━━━\u001b[0m\u001b[37m\u001b[0m \u001b[1m1s\u001b[0m 2ms/step - accuracy: 0.7492 - loss: 0.9191 - val_accuracy: 0.7462 - val_loss: 0.9556\n",
            "Epoch 13/20\n",
            "\u001b[1m450/450\u001b[0m \u001b[32m━━━━━━━━━━━━━━━━━━━━\u001b[0m\u001b[37m\u001b[0m \u001b[1m1s\u001b[0m 2ms/step - accuracy: 0.7484 - loss: 0.9186 - val_accuracy: 0.7412 - val_loss: 0.9541\n",
            "Epoch 14/20\n",
            "\u001b[1m450/450\u001b[0m \u001b[32m━━━━━━━━━━━━━━━━━━━━\u001b[0m\u001b[37m\u001b[0m \u001b[1m1s\u001b[0m 2ms/step - accuracy: 0.7557 - loss: 0.8879 - val_accuracy: 0.7500 - val_loss: 0.9221\n",
            "Epoch 15/20\n",
            "\u001b[1m450/450\u001b[0m \u001b[32m━━━━━━━━━━━━━━━━━━━━\u001b[0m\u001b[37m\u001b[0m \u001b[1m1s\u001b[0m 2ms/step - accuracy: 0.7676 - loss: 0.8603 - val_accuracy: 0.7469 - val_loss: 0.9137\n",
            "Epoch 16/20\n",
            "\u001b[1m450/450\u001b[0m \u001b[32m━━━━━━━━━━━━━━━━━━━━\u001b[0m\u001b[37m\u001b[0m \u001b[1m1s\u001b[0m 2ms/step - accuracy: 0.7607 - loss: 0.8793 - val_accuracy: 0.7556 - val_loss: 0.8945\n",
            "Epoch 17/20\n",
            "\u001b[1m450/450\u001b[0m \u001b[32m━━━━━━━━━━━━━━━━━━━━\u001b[0m\u001b[37m\u001b[0m \u001b[1m1s\u001b[0m 3ms/step - accuracy: 0.7628 - loss: 0.8661 - val_accuracy: 0.7519 - val_loss: 0.8922\n",
            "Epoch 18/20\n",
            "\u001b[1m450/450\u001b[0m \u001b[32m━━━━━━━━━━━━━━━━━━━━\u001b[0m\u001b[37m\u001b[0m \u001b[1m1s\u001b[0m 3ms/step - accuracy: 0.7691 - loss: 0.8434 - val_accuracy: 0.7613 - val_loss: 0.8654\n",
            "Epoch 19/20\n",
            "\u001b[1m450/450\u001b[0m \u001b[32m━━━━━━━━━━━━━━━━━━━━\u001b[0m\u001b[37m\u001b[0m \u001b[1m2s\u001b[0m 2ms/step - accuracy: 0.7714 - loss: 0.8357 - val_accuracy: 0.7569 - val_loss: 0.8651\n",
            "Epoch 20/20\n",
            "\u001b[1m450/450\u001b[0m \u001b[32m━━━━━━━━━━━━━━━━━━━━\u001b[0m\u001b[37m\u001b[0m \u001b[1m1s\u001b[0m 2ms/step - accuracy: 0.7662 - loss: 0.8320 - val_accuracy: 0.7631 - val_loss: 0.8417\n"
          ]
        }
      ]
    },
    {
      "cell_type": "code",
      "source": [
        "# Evaluate the Model on the Test Set\n",
        "test_loss, test_accuracy = model.evaluate(X_test, y_test, verbose=0)\n",
        "print(f\"\\nTest Accuracy: {test_accuracy * 100:.2f}%\")"
      ],
      "metadata": {
        "colab": {
          "base_uri": "https://localhost:8080/"
        },
        "id": "pj7ZIE73s43o",
        "outputId": "d047d59f-04fb-4850-c03d-39e2209b2605"
      },
      "execution_count": 55,
      "outputs": [
        {
          "output_type": "stream",
          "name": "stdout",
          "text": [
            "\n",
            "Test Accuracy: 77.22%\n"
          ]
        }
      ]
    },
    {
      "cell_type": "code",
      "source": [
        "# Making Predictions\n",
        "predictions = model.predict(X_test)\n",
        "predicted_classes = predictions.argmax(axis=1)"
      ],
      "metadata": {
        "colab": {
          "base_uri": "https://localhost:8080/"
        },
        "id": "KoAtLJXstJhq",
        "outputId": "0a79c92f-74fb-40ba-ca41-cbda46d327ff"
      },
      "execution_count": 56,
      "outputs": [
        {
          "output_type": "stream",
          "name": "stdout",
          "text": [
            "\u001b[1m125/125\u001b[0m \u001b[32m━━━━━━━━━━━━━━━━━━━━\u001b[0m\u001b[37m\u001b[0m \u001b[1m0s\u001b[0m 1ms/step\n"
          ]
        }
      ]
    },
    {
      "cell_type": "code",
      "source": [
        "# Decode predictions back to letter labels\n",
        "predicted_labels = label_encoder.inverse_transform(predicted_classes)"
      ],
      "metadata": {
        "id": "9fE88lMZtL51"
      },
      "execution_count": 57,
      "outputs": []
    },
    {
      "cell_type": "code",
      "source": [
        "# Display a few predictions alongside actual labels\n",
        "actual_labels = label_encoder.inverse_transform(y_test.argmax(axis=1))\n",
        "results = pd.DataFrame({\n",
        "    'Actual': actual_labels,\n",
        "    'Predicted': predicted_labels\n",
        "})\n",
        "\n",
        "print(\"\\nSample Predictions:\")\n",
        "print(results.head())"
      ],
      "metadata": {
        "colab": {
          "base_uri": "https://localhost:8080/"
        },
        "id": "uq8alrDftOc4",
        "outputId": "94066045-11ca-4fac-d034-bb0be6410a94"
      },
      "execution_count": 58,
      "outputs": [
        {
          "output_type": "stream",
          "name": "stdout",
          "text": [
            "\n",
            "Sample Predictions:\n",
            "  Actual Predicted\n",
            "0      T         Z\n",
            "1      L         X\n",
            "2      A         A\n",
            "3      E         E\n",
            "4      Q         Q\n"
          ]
        }
      ]
    },
    {
      "cell_type": "markdown",
      "source": [
        "Hyperparameter Tuning"
      ],
      "metadata": {
        "id": "w3o3jgcqtXYq"
      }
    },
    {
      "cell_type": "code",
      "source": [
        "# Define a function to create the model\n",
        "def create_model(hidden_layers, neurons, activation, learning_rate):\n",
        "    model = Sequential()\n",
        "    # Input layer\n",
        "    model.add(Dense(neurons, input_dim=X_train.shape[1], activation=activation))\n",
        "    # Hidden layers\n",
        "    for _ in range(hidden_layers):\n",
        "        model.add(Dense(neurons, activation=activation))\n",
        "    # Output layer\n",
        "    model.add(Dense(y_train.shape[1], activation='softmax'))\n",
        "\n",
        "    # Compile the model\n",
        "    optimizer = Adam(learning_rate=learning_rate)\n",
        "    model.compile(optimizer=optimizer, loss='categorical_crossentropy', metrics=['accuracy'])\n",
        "    return model\n"
      ],
      "metadata": {
        "id": "xa5OaDXctQvU"
      },
      "execution_count": 59,
      "outputs": []
    },
    {
      "cell_type": "code",
      "source": [
        "# Define hyperparameter search space\n",
        "param_grid = {\n",
        "    'hidden_layers': [1, 2, 3],\n",
        "    'neurons': [32, 64, 128],\n",
        "    'activation': ['relu', 'tanh'],\n",
        "    'learning_rate': [0.001, 0.01, 0.1],\n",
        "    'batch_size': [16, 32, 64],\n",
        "    'epochs': [10, 20]\n",
        "}"
      ],
      "metadata": {
        "id": "FkI9diRXtiAX"
      },
      "execution_count": 60,
      "outputs": []
    },
    {
      "cell_type": "code",
      "source": [
        "# Random search over the parameter grid\n",
        "n_iter = 10  # Number of random configurations to try\n",
        "random_search = ParameterSampler(param_grid, n_iter=n_iter, random_state=42)"
      ],
      "metadata": {
        "id": "PpjurdSQtkVN"
      },
      "execution_count": 61,
      "outputs": []
    },
    {
      "cell_type": "code",
      "source": [
        "#  Evaluate each configuration\n",
        "results = []\n",
        "for params in random_search:\n",
        "    print(f\"Testing configuration: {params}\")\n",
        "    model = create_model(\n",
        "        hidden_layers=params['hidden_layers'],\n",
        "        neurons=params['neurons'],\n",
        "        activation=params['activation'],\n",
        "        learning_rate=params['learning_rate']\n",
        "    )\n",
        "    history = model.fit(\n",
        "        X_train, y_train,\n",
        "        validation_split=0.1,\n",
        "        epochs=params['epochs'],\n",
        "        batch_size=params['batch_size'],\n",
        "        verbose=0\n",
        "    )\n",
        "    # Evaluate on the test set\n",
        "    test_loss, test_accuracy = model.evaluate(X_test, y_test, verbose=0)\n",
        "    results.append({**params, 'test_accuracy': test_accuracy})"
      ],
      "metadata": {
        "colab": {
          "base_uri": "https://localhost:8080/"
        },
        "id": "llq3voCFtmwW",
        "outputId": "a819ff83-bbd8-41d4-a77c-ebbdcf8f700c"
      },
      "execution_count": 63,
      "outputs": [
        {
          "output_type": "stream",
          "name": "stdout",
          "text": [
            "Testing configuration: {'neurons': 32, 'learning_rate': 0.1, 'hidden_layers': 3, 'epochs': 10, 'batch_size': 64, 'activation': 'relu'}\n",
            "Testing configuration: {'neurons': 32, 'learning_rate': 0.001, 'hidden_layers': 1, 'epochs': 10, 'batch_size': 64, 'activation': 'relu'}\n",
            "Testing configuration: {'neurons': 128, 'learning_rate': 0.001, 'hidden_layers': 1, 'epochs': 20, 'batch_size': 64, 'activation': 'relu'}\n",
            "Testing configuration: {'neurons': 32, 'learning_rate': 0.001, 'hidden_layers': 2, 'epochs': 10, 'batch_size': 16, 'activation': 'relu'}\n",
            "Testing configuration: {'neurons': 32, 'learning_rate': 0.001, 'hidden_layers': 3, 'epochs': 10, 'batch_size': 16, 'activation': 'tanh'}\n",
            "Testing configuration: {'neurons': 32, 'learning_rate': 0.001, 'hidden_layers': 3, 'epochs': 10, 'batch_size': 64, 'activation': 'relu'}\n",
            "Testing configuration: {'neurons': 32, 'learning_rate': 0.01, 'hidden_layers': 1, 'epochs': 10, 'batch_size': 32, 'activation': 'tanh'}\n",
            "Testing configuration: {'neurons': 64, 'learning_rate': 0.1, 'hidden_layers': 1, 'epochs': 20, 'batch_size': 16, 'activation': 'tanh'}\n",
            "Testing configuration: {'neurons': 128, 'learning_rate': 0.01, 'hidden_layers': 3, 'epochs': 20, 'batch_size': 32, 'activation': 'tanh'}\n",
            "Testing configuration: {'neurons': 32, 'learning_rate': 0.001, 'hidden_layers': 2, 'epochs': 20, 'batch_size': 64, 'activation': 'relu'}\n"
          ]
        }
      ]
    },
    {
      "cell_type": "code",
      "source": [
        "# Convert results to a DataFrame and display the top configurations\n",
        "results_df = pd.DataFrame(results)\n",
        "best_config = results_df.sort_values(by='test_accuracy', ascending=False).iloc[0]"
      ],
      "metadata": {
        "id": "VDQMRVC1tx2b"
      },
      "execution_count": 64,
      "outputs": []
    },
    {
      "cell_type": "code",
      "source": [
        "print(\"\\nTop Hyperparameter Configurations:\")\n",
        "print(results_df.sort_values(by='test_accuracy', ascending=False).head())\n",
        "print(\"\\nBest Configuration:\")\n",
        "print(best_config)"
      ],
      "metadata": {
        "colab": {
          "base_uri": "https://localhost:8080/"
        },
        "id": "jSI2CPbMufxl",
        "outputId": "a7cd96ba-8a3f-49ee-968a-a3c255e2357d"
      },
      "execution_count": 65,
      "outputs": [
        {
          "output_type": "stream",
          "name": "stdout",
          "text": [
            "\n",
            "Top Hyperparameter Configurations:\n",
            "   neurons  learning_rate  hidden_layers  epochs  batch_size activation  \\\n",
            "6       32          0.010              1      10          32       tanh   \n",
            "2      128          0.001              1      20          64       relu   \n",
            "4       32          0.001              3      10          16       tanh   \n",
            "9       32          0.001              2      20          64       relu   \n",
            "3       32          0.001              2      10          16       relu   \n",
            "\n",
            "   test_accuracy  \n",
            "6        0.84850  \n",
            "2        0.84000  \n",
            "4        0.82300  \n",
            "9        0.77650  \n",
            "3        0.76825  \n",
            "\n",
            "Best Configuration:\n",
            "neurons              32\n",
            "learning_rate      0.01\n",
            "hidden_layers         1\n",
            "epochs               10\n",
            "batch_size           32\n",
            "activation         tanh\n",
            "test_accuracy    0.8485\n",
            "Name: 6, dtype: object\n"
          ]
        }
      ]
    },
    {
      "cell_type": "markdown",
      "source": [
        "Evaluation"
      ],
      "metadata": {
        "id": "poaKrNxFuuo8"
      }
    },
    {
      "cell_type": "code",
      "source": [
        "from sklearn.metrics import accuracy_score, precision_score, recall_score, f1_score, classification_report"
      ],
      "metadata": {
        "id": "zOfk3qJ7unCo"
      },
      "execution_count": 66,
      "outputs": []
    },
    {
      "cell_type": "code",
      "source": [
        "# Define a function to evaluate the model\n",
        "def evaluate_model(model, X_test, y_test, label_encoder):\n",
        "    # Generate predictions\n",
        "    predictions = model.predict(X_test)\n",
        "    predicted_classes = predictions.argmax(axis=1)\n",
        "    true_classes = y_test.argmax(axis=1)\n",
        "\n",
        "    # Calculate metrics\n",
        "    accuracy = accuracy_score(true_classes, predicted_classes)\n",
        "    precision = precision_score(true_classes, predicted_classes, average='weighted')\n",
        "    recall = recall_score(true_classes, predicted_classes, average='weighted')\n",
        "    f1 = f1_score(true_classes, predicted_classes, average='weighted')\n",
        "\n",
        "    # Detailed classification report\n",
        "    report = classification_report(\n",
        "        true_classes, predicted_classes, target_names=label_encoder.classes_\n",
        "    )\n",
        "\n",
        "    return accuracy, precision, recall, f1, report"
      ],
      "metadata": {
        "id": "l4Ve5-pOuyU7"
      },
      "execution_count": 67,
      "outputs": []
    },
    {
      "cell_type": "code",
      "source": [
        "# Evaluate the default model\n",
        "default_model_metrics = evaluate_model(model, X_test, y_test, label_encoder)"
      ],
      "metadata": {
        "colab": {
          "base_uri": "https://localhost:8080/"
        },
        "id": "kzbUnHqcu19P",
        "outputId": "689a811a-4bb3-41ae-8e9b-38ed013616aa"
      },
      "execution_count": 68,
      "outputs": [
        {
          "output_type": "stream",
          "name": "stdout",
          "text": [
            "\u001b[1m125/125\u001b[0m \u001b[32m━━━━━━━━━━━━━━━━━━━━\u001b[0m\u001b[37m\u001b[0m \u001b[1m0s\u001b[0m 2ms/step\n"
          ]
        }
      ]
    },
    {
      "cell_type": "code",
      "source": [
        "# Train and evaluate the tuned model\n",
        "best_tuned_model = create_model(\n",
        "    hidden_layers=best_config['hidden_layers'],\n",
        "    neurons=best_config['neurons'],\n",
        "    activation=best_config['activation'],\n",
        "    learning_rate=best_config['learning_rate']\n",
        ")\n",
        "best_tuned_model.fit(\n",
        "    X_train, y_train,\n",
        "    epochs=best_config['epochs'],\n",
        "    batch_size=best_config['batch_size'],\n",
        "    verbose=0,\n",
        "    validation_split=0.1\n",
        ")\n",
        "tuned_model_metrics = evaluate_model(best_tuned_model, X_test, y_test, label_encoder)\n"
      ],
      "metadata": {
        "colab": {
          "base_uri": "https://localhost:8080/"
        },
        "id": "0VFeX2P1v_w7",
        "outputId": "b042a410-343e-4bba-f71e-0e170e8c4ff4"
      },
      "execution_count": 69,
      "outputs": [
        {
          "output_type": "stream",
          "name": "stdout",
          "text": [
            "\u001b[1m125/125\u001b[0m \u001b[32m━━━━━━━━━━━━━━━━━━━━\u001b[0m\u001b[37m\u001b[0m \u001b[1m0s\u001b[0m 1ms/step\n"
          ]
        }
      ]
    },
    {
      "cell_type": "code",
      "source": [
        "# Print the results\n",
        "print(\"\\n### Default Model Performance ###\")\n",
        "print(f\"Accuracy: {default_model_metrics[0]:.2f}\")\n",
        "print(f\"Precision: {default_model_metrics[1]:.2f}\")\n",
        "print(f\"Recall: {default_model_metrics[2]:.2f}\")\n",
        "print(f\"F1-Score: {default_model_metrics[3]:.2f}\")"
      ],
      "metadata": {
        "colab": {
          "base_uri": "https://localhost:8080/"
        },
        "id": "EItra5X-wLkA",
        "outputId": "fef920cc-2a28-467b-fd30-5ed3d334038d"
      },
      "execution_count": 70,
      "outputs": [
        {
          "output_type": "stream",
          "name": "stdout",
          "text": [
            "\n",
            "### Default Model Performance ###\n",
            "Accuracy: 0.78\n",
            "Precision: 0.78\n",
            "Recall: 0.78\n",
            "F1-Score: 0.77\n"
          ]
        }
      ]
    },
    {
      "cell_type": "code",
      "source": [
        "print(\"\\n### Tuned Model Performance ###\")\n",
        "print(f\"Accuracy: {tuned_model_metrics[0]:.2f}\")\n",
        "print(f\"Precision: {tuned_model_metrics[1]:.2f}\")\n",
        "print(f\"Recall: {tuned_model_metrics[2]:.2f}\")\n",
        "print(f\"F1-Score: {tuned_model_metrics[3]:.2f}\")"
      ],
      "metadata": {
        "colab": {
          "base_uri": "https://localhost:8080/"
        },
        "id": "RascGd8_wWss",
        "outputId": "d14d3a12-fc73-4020-d8e1-3920525ced3a"
      },
      "execution_count": 71,
      "outputs": [
        {
          "output_type": "stream",
          "name": "stdout",
          "text": [
            "\n",
            "### Tuned Model Performance ###\n",
            "Accuracy: 0.83\n",
            "Precision: 0.85\n",
            "Recall: 0.83\n",
            "F1-Score: 0.84\n"
          ]
        }
      ]
    },
    {
      "cell_type": "code",
      "source": [],
      "metadata": {
        "id": "v9ts3CWMwaMd"
      },
      "execution_count": null,
      "outputs": []
    }
  ]
}